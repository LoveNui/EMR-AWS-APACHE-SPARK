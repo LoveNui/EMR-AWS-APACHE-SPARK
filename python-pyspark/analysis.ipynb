{
 "cells": [
  {
   "cell_type": "code",
   "execution_count": 1,
   "id": "79a8bd4d-611a-453c-a2d0-5ffa36ed6472",
   "metadata": {},
   "outputs": [
    {
     "ename": "ModuleNotFoundError",
     "evalue": "No module named 'pyspark'",
     "output_type": "error",
     "traceback": [
      "\u001b[0;31m---------------------------------------------------------------------------\u001b[0m",
      "\u001b[0;31mModuleNotFoundError\u001b[0m                       Traceback (most recent call last)",
      "Cell \u001b[0;32mIn[1], line 1\u001b[0m\n\u001b[0;32m----> 1\u001b[0m \u001b[39mimport\u001b[39;00m \u001b[39mpyspark\u001b[39;00m\n",
      "\u001b[0;31mModuleNotFoundError\u001b[0m: No module named 'pyspark'"
     ]
    }
   ],
   "source": [
    "import pyspark"
   ]
  },
  {
   "cell_type": "code",
   "execution_count": null,
   "id": "8f72ec1c-6ee4-4060-9fc7-c8b788ac49aa",
   "metadata": {},
   "outputs": [],
   "source": [
    "import sys"
   ]
  },
  {
   "cell_type": "code",
   "execution_count": null,
   "id": "e937e400-92a6-4681-9fef-a0752440128e",
   "metadata": {},
   "outputs": [],
   "source": [
    "from pyspark.sql import SparkSession"
   ]
  },
  {
   "cell_type": "code",
   "execution_count": null,
   "id": "d9a9adb8-03f5-44ad-b1c7-71bad748e3cf",
   "metadata": {},
   "outputs": [],
   "source": [
    "from pyspark.sql.functions import concat,concat_ws\n",
    "from pyspark.sql.types import StructType, StructField, IntegerType, StringType"
   ]
  },
  {
   "attachments": {},
   "cell_type": "markdown",
   "id": "e517e37c",
   "metadata": {},
   "source": [
    "\"\"\"\n",
    "Merge 2 files into 1\n",
    "\n",
    "Usage:\n",
    "\n",
    "\"\"\""
   ]
  },
  {
   "cell_type": "code",
   "execution_count": null,
   "id": "5b0b227f-00a2-45f7-ad70-0c3721d36168",
   "metadata": {},
   "outputs": [
    {
     "name": "stdout",
     "output_type": "stream",
     "text": [
      "+----+-------+-------+\n",
      "|ID_x|value_x|value_y|\n",
      "+----+-------+-------+\n",
      "|  ID|   Word|   droW|\n",
      "|   A|  Hello|  olleH|\n",
      "|   B|  World|  dlroW|\n",
      "|   C|    How|    woH|\n",
      "|   D|     Do|     oD|\n",
      "|   E|    You|    uoY|\n",
      "|   F|     Do|     oD|\n",
      "|   G|      ?|      ?|\n",
      "+----+-------+-------+\n",
      "\n"
     ]
    }
   ],
   "source": [
    "def main():\n",
    "    spark=SparkSession.builder.appName(\"concate\").getOrCreate()\n",
    "    \n",
    "    x_schema = StructType([\n",
    "    StructField(\"ID_x\", StringType(), True),\n",
    "    StructField(\"value_x\", StringType(), True)])\n",
    "    \n",
    "    y_schema = StructType([\n",
    "    StructField(\"ID_y\", StringType(), True),\n",
    "    StructField(\"value_y\", StringType(), True)])\n",
    "    \n",
    "    x = spark.read.csv('x_list.txt', sep='\\t',header=False,schema=x_schema)\n",
    "    y = spark.read.csv('y_list.txt', sep='\\t', header=False, schema=y_schema)\n",
    "    res = x.join(y, x.ID_x == y.ID_y, how= \"left\")\n",
    "    res1 = res.drop(res.ID_y)\n",
    "    res1.show()\n",
    "if __name__ == \"__main__\":\n",
    "    main()"
   ]
  },
  {
   "cell_type": "code",
   "execution_count": null,
   "id": "3ae5075b-3c22-4a60-9751-3ca405e69ce3",
   "metadata": {},
   "outputs": [],
   "source": []
  }
 ],
 "metadata": {
  "kernelspec": {
   "display_name": "Python 3",
   "language": "python",
   "name": "python3"
  },
  "language_info": {
   "codemirror_mode": {
    "name": "ipython",
    "version": 3
   },
   "file_extension": ".py",
   "mimetype": "text/x-python",
   "name": "python",
   "nbconvert_exporter": "python",
   "pygments_lexer": "ipython3",
   "version": "3.10.9"
  },
  "vscode": {
   "interpreter": {
    "hash": "aee8b7b246df8f9039afb4144a1f6fd8d2ca17a180786b69acc140d282b71a49"
   }
  }
 },
 "nbformat": 4,
 "nbformat_minor": 5
}
