{
 "cells": [
  {
   "cell_type": "code",
   "execution_count": 6,
   "id": "f0b4c5a1-e680-4df4-8f9d-2fc67646e90b",
   "metadata": {},
   "outputs": [
    {
     "ename": "NameError",
     "evalue": "name 'argparse' is not defined",
     "output_type": "error",
     "traceback": [
      "\u001b[0;31m---------------------------------------------------------------------------\u001b[0m",
      "\u001b[0;31mNameError\u001b[0m                                 Traceback (most recent call last)",
      "Cell \u001b[0;32mIn[6], line 29\u001b[0m\n\u001b[1;32m     26\u001b[0m     res1\u001b[38;5;241m.\u001b[39mshow()\n\u001b[1;32m     28\u001b[0m \u001b[38;5;28;01mif\u001b[39;00m \u001b[38;5;18m__name__\u001b[39m \u001b[38;5;241m==\u001b[39m \u001b[38;5;124m\"\u001b[39m\u001b[38;5;124m__main__\u001b[39m\u001b[38;5;124m\"\u001b[39m:\n\u001b[0;32m---> 29\u001b[0m     parser \u001b[38;5;241m=\u001b[39m \u001b[43margparse\u001b[49m\u001b[38;5;241m.\u001b[39mArgumentParser()\n\u001b[1;32m     30\u001b[0m     parser\u001b[38;5;241m.\u001b[39madd_argument(\n\u001b[1;32m     31\u001b[0m         \u001b[38;5;124m'\u001b[39m\u001b[38;5;124m--data_source\u001b[39m\u001b[38;5;124m'\u001b[39m, help\u001b[38;5;241m=\u001b[39m\u001b[38;5;124m\"\u001b[39m\u001b[38;5;124mThe URI for you CSV restaurant data, like an S3 bucket location.\u001b[39m\u001b[38;5;124m\"\u001b[39m)\n\u001b[1;32m     32\u001b[0m     parser\u001b[38;5;241m.\u001b[39madd_argument(\n\u001b[1;32m     33\u001b[0m         \u001b[38;5;124m'\u001b[39m\u001b[38;5;124m--output_uri\u001b[39m\u001b[38;5;124m'\u001b[39m, help\u001b[38;5;241m=\u001b[39m\u001b[38;5;124m\"\u001b[39m\u001b[38;5;124mThe URI where output is saved, like an S3 bucket location.\u001b[39m\u001b[38;5;124m\"\u001b[39m)\n",
      "\u001b[0;31mNameError\u001b[0m: name 'argparse' is not defined"
     ]
    }
   ],
   "source": [
    "import argparse\n",
    "from pyspark.sql import SparkSession\n",
    "from pyspark.sql.types import StructType, StructField, StringType\n",
    "\n",
    "def merge_two_files(data_source_1,data_source_2):\n",
    "    \"\"\"\n",
    "    Merge 2 files into 1\n",
    "    \"\"\"\n",
    "    spark=SparkSession.builder.appName(\"merge-two-files\").getOrCreate()\n",
    "    \n",
    "    x_schema = StructType([\n",
    "    StructField(\"ID_x\", StringType(), True),\n",
    "    StructField(\"value_x\", StringType(), True)])\n",
    "    \n",
    "    y_schema = StructType([\n",
    "    StructField(\"ID_y\", StringType(), True),\n",
    "    StructField(\"value_y\", StringType(), True)])\n",
    "    \n",
    "    if data_source_1 is not None:\n",
    "      x = spark.read.csv(data_source_1, sep='\\t',header=False,schema=x_schema)\n",
    "    \n",
    "    if data_source_2 is not None:\n",
    "      y = spark.read.csv(data_source_2, sep='\\t', header=False, schema=y_schema)\n",
    "    \n",
    "    res = x.join(y, x.ID_x == y.ID_y, how= \"left\")\n",
    "    res1 = res.drop(res.ID_y)\n",
    "    res1.show()\n",
    "\n",
    "if __name__ == \"__main__\":\n",
    "    parser = argparse.ArgumentParser()\n",
    "    parser.add_argument(\n",
    "        '--data_source_1', help=\"The URI for you CSV data, like an S3 bucket location.\")\n",
    "    parser.add_argument(\n",
    "        '--data_source_2', help=\"The URI for you CSV data, like an S3 bucket location.\")\n",
    "    args = parser.parse_args()\n",
    "\n",
    "    merge_two_files(args.x_list.txt, args.y_list.txt)\n"
   ]
  },
  {
   "cell_type": "code",
   "execution_count": null,
   "id": "da572d17-35c5-4b36-929c-69af02a8d200",
   "metadata": {},
   "outputs": [],
   "source": []
  }
 ],
 "metadata": {
  "kernelspec": {
   "display_name": "Python 3 (ipykernel)",
   "language": "python",
   "name": "python3"
  },
  "language_info": {
   "codemirror_mode": {
    "name": "ipython",
    "version": 3
   },
   "file_extension": ".py",
   "mimetype": "text/x-python",
   "name": "python",
   "nbconvert_exporter": "python",
   "pygments_lexer": "ipython3",
   "version": "3.10.0"
  }
 },
 "nbformat": 4,
 "nbformat_minor": 5
}
